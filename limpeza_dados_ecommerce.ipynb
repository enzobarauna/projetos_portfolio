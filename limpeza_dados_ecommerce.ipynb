{
 "cells": [
  {
   "cell_type": "markdown",
   "id": "20cf469b-b498-4aca-b51c-929914202da3",
   "metadata": {
    "jp-MarkdownHeadingCollapsed": true
   },
   "source": [
    "# 0. Importando Pandas"
   ]
  },
  {
   "cell_type": "code",
   "execution_count": 47,
   "id": "29ed301e-e3f5-4571-906d-99f533252bfb",
   "metadata": {},
   "outputs": [],
   "source": [
    "import pandas as pd"
   ]
  },
  {
   "cell_type": "markdown",
   "id": "27899e12-7fdb-4dd4-b6af-33c1d28d705d",
   "metadata": {
    "jp-MarkdownHeadingCollapsed": true
   },
   "source": [
    "# 1. Importando dados "
   ]
  },
  {
   "cell_type": "code",
   "execution_count": 48,
   "id": "23b2062a-8d4d-4a0b-88f9-ea87b1a16579",
   "metadata": {},
   "outputs": [],
   "source": [
    "path = 'us-shein-automotive-4110.csv'\n",
    "auto = pd.read_csv(path, sep=None, engine='python')"
   ]
  },
  {
   "cell_type": "code",
   "execution_count": 49,
   "id": "f77019b7-c2ba-442c-9466-4ae8a2a23246",
   "metadata": {},
   "outputs": [],
   "source": [
    "# Defini o caminho do arquivo CSV como uma variável e\n",
    "# usei o método read_csv com detecção automática\n",
    "# de delimitador e motor Python"
   ]
  },
  {
   "cell_type": "markdown",
   "id": "8e7a49db-ee61-4757-ae2b-9d4c7a48306e",
   "metadata": {
    "jp-MarkdownHeadingCollapsed": true
   },
   "source": [
    "# 2. Analisando a estrutura dos dados"
   ]
  },
  {
   "cell_type": "code",
   "execution_count": 50,
   "id": "7e2048dd-abbb-44ff-a5ba-fad1e6290cf5",
   "metadata": {
    "scrolled": true
   },
   "outputs": [
    {
     "data": {
      "text/html": [
       "<div>\n",
       "<style scoped>\n",
       "    .dataframe tbody tr th:only-of-type {\n",
       "        vertical-align: middle;\n",
       "    }\n",
       "\n",
       "    .dataframe tbody tr th {\n",
       "        vertical-align: top;\n",
       "    }\n",
       "\n",
       "    .dataframe thead th {\n",
       "        text-align: right;\n",
       "    }\n",
       "</style>\n",
       "<table border=\"1\" class=\"dataframe\">\n",
       "  <thead>\n",
       "    <tr style=\"text-align: right;\">\n",
       "      <th></th>\n",
       "      <th>goods-title-link--jump</th>\n",
       "      <th>goods-title-link--jump href</th>\n",
       "      <th>price</th>\n",
       "      <th>discount</th>\n",
       "      <th>selling_proposition</th>\n",
       "      <th>goods-title-link</th>\n",
       "    </tr>\n",
       "  </thead>\n",
       "  <tbody>\n",
       "    <tr>\n",
       "      <th>0</th>\n",
       "      <td>1pc/2PCS Car Cup Coaster, Bling Cup Holder Ins...</td>\n",
       "      <td>https://us.shein.com/1pc-2PCS-Car-Cup-Coaster-...</td>\n",
       "      <td>$0.68</td>\n",
       "      <td>-60%</td>\n",
       "      <td>NaN</td>\n",
       "      <td>NaN</td>\n",
       "    </tr>\n",
       "    <tr>\n",
       "      <th>1</th>\n",
       "      <td>Jesus The Way Truth Life Sticker For Car Windo...</td>\n",
       "      <td>https://us.shein.com/Jesus-The-Way-Truth-Life-...</td>\n",
       "      <td>$1.60</td>\n",
       "      <td>-20%</td>\n",
       "      <td>500+ sold recently</td>\n",
       "      <td>NaN</td>\n",
       "    </tr>\n",
       "    <tr>\n",
       "      <th>2</th>\n",
       "      <td>2PC Car Rearview Mirror Rain Eyebrow And Rain ...</td>\n",
       "      <td>https://us.shein.com/2PC-Car-Rearview-Mirror-R...</td>\n",
       "      <td>$1.60</td>\n",
       "      <td>NaN</td>\n",
       "      <td>200+ sold recently</td>\n",
       "      <td>NaN</td>\n",
       "    </tr>\n",
       "    <tr>\n",
       "      <th>3</th>\n",
       "      <td>2pcs Car Rearview Mirror Rainproof Film, High-...</td>\n",
       "      <td>https://us.shein.com/2pcs-Car-Rearview-Mirror-...</td>\n",
       "      <td>$0.93</td>\n",
       "      <td>-34%</td>\n",
       "      <td>200+ sold recently</td>\n",
       "      <td>NaN</td>\n",
       "    </tr>\n",
       "    <tr>\n",
       "      <th>4</th>\n",
       "      <td>2pcs Multifunctional Car Hook</td>\n",
       "      <td>https://us.shein.com/2pcs-Multifunctional-Car-...</td>\n",
       "      <td>$1.12</td>\n",
       "      <td>-20%</td>\n",
       "      <td>1.9k+ sold recently</td>\n",
       "      <td>NaN</td>\n",
       "    </tr>\n",
       "  </tbody>\n",
       "</table>\n",
       "</div>"
      ],
      "text/plain": [
       "                              goods-title-link--jump  \\\n",
       "0  1pc/2PCS Car Cup Coaster, Bling Cup Holder Ins...   \n",
       "1  Jesus The Way Truth Life Sticker For Car Windo...   \n",
       "2  2PC Car Rearview Mirror Rain Eyebrow And Rain ...   \n",
       "3  2pcs Car Rearview Mirror Rainproof Film, High-...   \n",
       "4                      2pcs Multifunctional Car Hook   \n",
       "\n",
       "                         goods-title-link--jump href  price discount  \\\n",
       "0  https://us.shein.com/1pc-2PCS-Car-Cup-Coaster-...  $0.68     -60%   \n",
       "1  https://us.shein.com/Jesus-The-Way-Truth-Life-...  $1.60     -20%   \n",
       "2  https://us.shein.com/2PC-Car-Rearview-Mirror-R...  $1.60      NaN   \n",
       "3  https://us.shein.com/2pcs-Car-Rearview-Mirror-...  $0.93     -34%   \n",
       "4  https://us.shein.com/2pcs-Multifunctional-Car-...  $1.12     -20%   \n",
       "\n",
       "   selling_proposition goods-title-link  \n",
       "0                  NaN              NaN  \n",
       "1   500+ sold recently              NaN  \n",
       "2   200+ sold recently              NaN  \n",
       "3   200+ sold recently              NaN  \n",
       "4  1.9k+ sold recently              NaN  "
      ]
     },
     "execution_count": 50,
     "metadata": {},
     "output_type": "execute_result"
    }
   ],
   "source": [
    "auto.head()"
   ]
  },
  {
   "cell_type": "code",
   "execution_count": 51,
   "id": "f8f36310-5301-49ac-b825-1702eb5955ab",
   "metadata": {},
   "outputs": [
    {
     "data": {
      "text/html": [
       "<div>\n",
       "<style scoped>\n",
       "    .dataframe tbody tr th:only-of-type {\n",
       "        vertical-align: middle;\n",
       "    }\n",
       "\n",
       "    .dataframe tbody tr th {\n",
       "        vertical-align: top;\n",
       "    }\n",
       "\n",
       "    .dataframe thead th {\n",
       "        text-align: right;\n",
       "    }\n",
       "</style>\n",
       "<table border=\"1\" class=\"dataframe\">\n",
       "  <thead>\n",
       "    <tr style=\"text-align: right;\">\n",
       "      <th></th>\n",
       "      <th>goods-title-link--jump</th>\n",
       "      <th>goods-title-link--jump href</th>\n",
       "      <th>price</th>\n",
       "      <th>discount</th>\n",
       "      <th>selling_proposition</th>\n",
       "      <th>goods-title-link</th>\n",
       "    </tr>\n",
       "  </thead>\n",
       "  <tbody>\n",
       "    <tr>\n",
       "      <th>4104</th>\n",
       "      <td>NaN</td>\n",
       "      <td>NaN</td>\n",
       "      <td>$18.50</td>\n",
       "      <td>NaN</td>\n",
       "      <td>NaN</td>\n",
       "      <td>2 Pcs 3 Lens 4 Lens Super Bright Light Motorcy...</td>\n",
       "    </tr>\n",
       "    <tr>\n",
       "      <th>4105</th>\n",
       "      <td>NaN</td>\n",
       "      <td>NaN</td>\n",
       "      <td>$21.00</td>\n",
       "      <td>NaN</td>\n",
       "      <td>NaN</td>\n",
       "      <td>680 Car Fastener Clips Auto Body Push Retainer...</td>\n",
       "    </tr>\n",
       "    <tr>\n",
       "      <th>4106</th>\n",
       "      <td>NaN</td>\n",
       "      <td>NaN</td>\n",
       "      <td>$20.33</td>\n",
       "      <td>-25%</td>\n",
       "      <td>NaN</td>\n",
       "      <td>Cargo Liner For SUV Dog, Rear Seat Hanging Car...</td>\n",
       "    </tr>\n",
       "    <tr>\n",
       "      <th>4107</th>\n",
       "      <td>NaN</td>\n",
       "      <td>NaN</td>\n",
       "      <td>$17.40</td>\n",
       "      <td>NaN</td>\n",
       "      <td>40+ sold recently</td>\n",
       "      <td>Motorcycle Cover Universal Waterproof Accessor...</td>\n",
       "    </tr>\n",
       "    <tr>\n",
       "      <th>4108</th>\n",
       "      <td>NaN</td>\n",
       "      <td>NaN</td>\n",
       "      <td>$59.99</td>\n",
       "      <td>NaN</td>\n",
       "      <td>NaN</td>\n",
       "      <td>Unbeatablesale 16 In. Wheel Covers For Camry</td>\n",
       "    </tr>\n",
       "  </tbody>\n",
       "</table>\n",
       "</div>"
      ],
      "text/plain": [
       "     goods-title-link--jump goods-title-link--jump href   price discount  \\\n",
       "4104                    NaN                         NaN  $18.50      NaN   \n",
       "4105                    NaN                         NaN  $21.00      NaN   \n",
       "4106                    NaN                         NaN  $20.33     -25%   \n",
       "4107                    NaN                         NaN  $17.40      NaN   \n",
       "4108                    NaN                         NaN  $59.99      NaN   \n",
       "\n",
       "     selling_proposition                                   goods-title-link  \n",
       "4104                 NaN  2 Pcs 3 Lens 4 Lens Super Bright Light Motorcy...  \n",
       "4105                 NaN  680 Car Fastener Clips Auto Body Push Retainer...  \n",
       "4106                 NaN  Cargo Liner For SUV Dog, Rear Seat Hanging Car...  \n",
       "4107   40+ sold recently  Motorcycle Cover Universal Waterproof Accessor...  \n",
       "4108                 NaN       Unbeatablesale 16 In. Wheel Covers For Camry  "
      ]
     },
     "execution_count": 51,
     "metadata": {},
     "output_type": "execute_result"
    }
   ],
   "source": [
    "auto.tail()"
   ]
  },
  {
   "cell_type": "code",
   "execution_count": 52,
   "id": "4772f96a-adfe-47f1-b246-49b7dfca9dbd",
   "metadata": {},
   "outputs": [
    {
     "name": "stdout",
     "output_type": "stream",
     "text": [
      "<class 'pandas.core.frame.DataFrame'>\n",
      "RangeIndex: 4109 entries, 0 to 4108\n",
      "Data columns (total 6 columns):\n",
      " #   Column                       Non-Null Count  Dtype \n",
      "---  ------                       --------------  ----- \n",
      " 0   goods-title-link--jump       40 non-null     object\n",
      " 1   goods-title-link--jump href  40 non-null     object\n",
      " 2   price                        4109 non-null   object\n",
      " 3   discount                     1373 non-null   object\n",
      " 4   selling_proposition          2874 non-null   object\n",
      " 5   goods-title-link             4069 non-null   object\n",
      "dtypes: object(6)\n",
      "memory usage: 192.7+ KB\n"
     ]
    }
   ],
   "source": [
    "auto.info()"
   ]
  },
  {
   "cell_type": "code",
   "execution_count": 53,
   "id": "26ac9474-586f-4fc2-8279-92ef5e670b9e",
   "metadata": {},
   "outputs": [],
   "source": [
    "# Verifica-se que há valores nulos, a nomeação das colunas\n",
    "# não está clara, os datatypes precisam ser trabalhados para\n",
    "# facilitar futuras análises, ao usar 'head' e 'tail' também vimos\n",
    "# que há duas colunas com valores relativos ao nome do produto"
   ]
  },
  {
   "cell_type": "markdown",
   "id": "deccd423-ea81-4225-a889-3c9ee18d4f3c",
   "metadata": {
    "jp-MarkdownHeadingCollapsed": true
   },
   "source": [
    "# 3. Limpeza dos dados"
   ]
  },
  {
   "cell_type": "code",
   "execution_count": 54,
   "id": "51e3a076-2769-42bf-a96b-9c88a615eb9a",
   "metadata": {
    "scrolled": true
   },
   "outputs": [],
   "source": [
    "auto = auto.rename(\n",
    "    {\n",
    "        'goods-title-link--jump': 'product',\n",
    "        'price': 'price_USD',\n",
    "        'goods-title-link--jump href': 'product_link'\n",
    "    },\n",
    "    axis=1\n",
    ")"
   ]
  },
  {
   "cell_type": "code",
   "execution_count": 55,
   "id": "6692f467-ff06-4722-a8e5-c3ca0f85c409",
   "metadata": {},
   "outputs": [],
   "source": [
    "# Renomeia as colunas"
   ]
  },
  {
   "cell_type": "code",
   "execution_count": 56,
   "id": "397c1ded-5845-4ce9-9f50-d7cebbc634a9",
   "metadata": {},
   "outputs": [],
   "source": [
    "auto['product_name'] = (\n",
    "    auto['product']\n",
    "    .fillna(auto['goods-title-link'])\n",
    ")"
   ]
  },
  {
   "cell_type": "code",
   "execution_count": 57,
   "id": "56e33001-1b05-424e-a4fa-9f94acea2167",
   "metadata": {},
   "outputs": [],
   "source": [
    "# Cria a coluna 'product_name' preenchendo os valores\n",
    "# nulos da coluna 'product' com os valores da coluna\n",
    "# 'goods-title-link'"
   ]
  },
  {
   "cell_type": "code",
   "execution_count": 58,
   "id": "a7a18396-816b-492e-a243-97566310b010",
   "metadata": {},
   "outputs": [],
   "source": [
    "auto = auto.drop(\n",
    "    columns=['product', 'goods-title-link']\n",
    ")"
   ]
  },
  {
   "cell_type": "code",
   "execution_count": 59,
   "id": "3b6155bf-3723-4501-8010-7d32c015989e",
   "metadata": {},
   "outputs": [],
   "source": [
    "# Após criada a coluna product_name podemos remover\n",
    "# as colunas 'product' e 'goods-title-link'"
   ]
  },
  {
   "cell_type": "code",
   "execution_count": 60,
   "id": "f7369ca6-4dfb-41c9-861a-f17e0458d483",
   "metadata": {},
   "outputs": [],
   "source": [
    "auto = auto[[\n",
    "    'product_name',\n",
    "    'price_USD',\n",
    "    'selling_proposition',\n",
    "    'discount',\n",
    "    'product_link'\n",
    "]]"
   ]
  },
  {
   "cell_type": "code",
   "execution_count": 61,
   "id": "6c0757da-e614-4a00-a4d9-3efe418c16da",
   "metadata": {},
   "outputs": [],
   "source": [
    "# Ordenando as colunas atualizando a variável 'auto'"
   ]
  },
  {
   "cell_type": "code",
   "execution_count": 62,
   "id": "6d1890eb-855c-405f-a32c-6c7120c828d1",
   "metadata": {},
   "outputs": [],
   "source": [
    "auto['price_USD'] = (\n",
    "    auto['price_USD']\n",
    "    .str.replace('$', '', regex=False)\n",
    ")"
   ]
  },
  {
   "cell_type": "code",
   "execution_count": 63,
   "id": "80f0ec8a-5c72-4fbc-b62c-e42ed07aa43d",
   "metadata": {},
   "outputs": [],
   "source": [
    "# Removendo o $ pra em seguida transformar em float "
   ]
  },
  {
   "cell_type": "code",
   "execution_count": 64,
   "id": "86eb2576-206f-4df7-b114-8f9633660f26",
   "metadata": {},
   "outputs": [],
   "source": [
    "auto['price_USD'] = (\n",
    "    auto['price_USD']\n",
    "    .astype(float)\n",
    ")"
   ]
  },
  {
   "cell_type": "code",
   "execution_count": 65,
   "id": "7a092b12-5ddf-4795-8372-ffe7de2e1db2",
   "metadata": {},
   "outputs": [],
   "source": [
    "# optei por transformar em float pra facilitar análises\n",
    "# quantitativas e me certifiquei de explicitar a moeda\n",
    "# no rótulo da coluna"
   ]
  },
  {
   "cell_type": "code",
   "execution_count": 66,
   "id": "2b6e60ad-5691-44db-aec8-7642ca83ed6c",
   "metadata": {},
   "outputs": [],
   "source": [
    "auto['discount'] = auto['discount'].str.rstrip('%').astype(float) / 100.0"
   ]
  },
  {
   "cell_type": "code",
   "execution_count": 67,
   "id": "1a71300d-b784-4f27-a8db-e7556a1c057e",
   "metadata": {},
   "outputs": [],
   "source": [
    "# Optei por transformar a coluna discount em float \n",
    "# e converter pra decimal pra facilitar operações matemáticas"
   ]
  },
  {
   "cell_type": "code",
   "execution_count": 68,
   "id": "50e47695-9739-4143-85c6-7eebd8472680",
   "metadata": {},
   "outputs": [],
   "source": [
    "auto['discount'] = (\n",
    "    auto['discount']\n",
    "    .fillna(0)\n",
    ")"
   ]
  },
  {
   "cell_type": "code",
   "execution_count": 69,
   "id": "ee94fef9-67f1-4f48-8b0f-9f07efcd4bcb",
   "metadata": {},
   "outputs": [],
   "source": [
    "# Preenchendo os valores nulos da coluna discount com 0"
   ]
  },
  {
   "cell_type": "code",
   "execution_count": 70,
   "id": "b3e23edf-7022-40ad-8f61-9c2b1ed8ba52",
   "metadata": {},
   "outputs": [],
   "source": [
    "auto.loc[:, 'product_link'] = (\n",
    "    auto['product_link']\n",
    "    .fillna('Missing')\n",
    ")"
   ]
  },
  {
   "cell_type": "code",
   "execution_count": 71,
   "id": "247d5c9a-9319-4fae-bcc8-9d37b1f91c90",
   "metadata": {},
   "outputs": [],
   "source": [
    "# Preenchendo os valores nulos da coluna product_link\n",
    "# como 'Missing'"
   ]
  },
  {
   "cell_type": "code",
   "execution_count": 72,
   "id": "79bea5e7-5218-4513-99c0-5f5225eb2604",
   "metadata": {},
   "outputs": [],
   "source": [
    "auto = (\n",
    "    auto.drop_duplicates()\n",
    ")"
   ]
  },
  {
   "cell_type": "code",
   "execution_count": 73,
   "id": "39ea4e0a-381c-4e7e-b7a0-6a3aba085db0",
   "metadata": {},
   "outputs": [],
   "source": [
    "# Removendo duplicatas"
   ]
  },
  {
   "cell_type": "code",
   "execution_count": 74,
   "id": "4b0381cb-fb13-4b50-9a28-ff21f3770a9c",
   "metadata": {},
   "outputs": [],
   "source": [
    "auto = auto.reset_index(drop=True)"
   ]
  },
  {
   "cell_type": "code",
   "execution_count": 75,
   "id": "c051492e-ddcd-4526-aff7-0b48515595f9",
   "metadata": {},
   "outputs": [],
   "source": [
    "# reseta o index após remover as duplicatas"
   ]
  },
  {
   "cell_type": "code",
   "execution_count": 76,
   "id": "08918b11-16b9-4bc4-be8b-bcede965535a",
   "metadata": {},
   "outputs": [],
   "source": [
    "auto['is_valid_link'] = (\n",
    "    auto['product_link'].str.startswith('https://us.shein.com/')\n",
    ")"
   ]
  },
  {
   "cell_type": "code",
   "execution_count": 77,
   "id": "5598ee97-a1fa-4952-b15a-c25db1e388bb",
   "metadata": {},
   "outputs": [],
   "source": [
    "# Verifica a integridade dos links pelo domínio\n",
    "# criando uma nova coluna com valores booleanos"
   ]
  },
  {
   "cell_type": "code",
   "execution_count": 78,
   "id": "382ad52d-f9e5-4fe0-9319-ccd8eacd9491",
   "metadata": {},
   "outputs": [
    {
     "name": "stdout",
     "output_type": "stream",
     "text": [
      "is_valid_link\n",
      "False    3890\n",
      "True       40\n",
      "Name: count, dtype: int64\n"
     ]
    }
   ],
   "source": [
    "counts = auto['is_valid_link'].value_counts()\n",
    "\n",
    "print(counts)"
   ]
  },
  {
   "cell_type": "code",
   "execution_count": 79,
   "id": "fcbac0c7-5066-4ac2-84f8-1c1a5a6bc99a",
   "metadata": {},
   "outputs": [],
   "source": [
    "# Agora sabemos quantos links íntegros temos"
   ]
  },
  {
   "cell_type": "code",
   "execution_count": 80,
   "id": "f1849947-c52c-428e-8eb3-eda1a694669f",
   "metadata": {},
   "outputs": [],
   "source": [
    "auto['selling_proposition'] = auto['selling_proposition'].str.replace('k', '00')\n"
   ]
  },
  {
   "cell_type": "code",
   "execution_count": null,
   "id": "92a3f22f-9ea7-49b8-953f-23f93b2d39a9",
   "metadata": {},
   "outputs": [],
   "source": [
    "# A coluna 'selling_proposition' possuía valores como '1.9k'\n",
    "# dessa forma esses valores serão transformados em '1900'"
   ]
  },
  {
   "cell_type": "code",
   "execution_count": 81,
   "id": "0dd9fb5f-c650-476f-a6b5-9bb93bbd3599",
   "metadata": {},
   "outputs": [],
   "source": [
    "auto['selling_proposition'] = auto['selling_proposition'].fillna('unknown')"
   ]
  },
  {
   "cell_type": "code",
   "execution_count": null,
   "id": "2985cf6f-36eb-448a-9743-3b83d3bde927",
   "metadata": {},
   "outputs": [],
   "source": [
    "# Assim preenchemos os valores nulos com a string 'unknown'"
   ]
  },
  {
   "cell_type": "code",
   "execution_count": 83,
   "id": "21d8e02b-9091-4d28-97c6-e8e26cd817e9",
   "metadata": {},
   "outputs": [],
   "source": [
    "auto = auto.rename(\n",
    "    columns={'selling_proposition': 'sold_recently',\n",
    "            'discount': 'discount_as_percentage'}  \n",
    ")"
   ]
  },
  {
   "cell_type": "code",
   "execution_count": null,
   "id": "082d81d1-0e97-4aa2-9ae6-42757d4a2405",
   "metadata": {},
   "outputs": [],
   "source": [
    "# Renomeei mais uma vez as colunas para que descrevam\n",
    "# melhor os dados levando em conta as alterações feitas"
   ]
  },
  {
   "cell_type": "code",
   "execution_count": 85,
   "id": "90940b4c-d081-4f55-b597-d3cafc61adfa",
   "metadata": {},
   "outputs": [],
   "source": [
    "auto['sold_recently'] = auto['sold_recently'].str.replace(' sold recently', '')\n"
   ]
  },
  {
   "cell_type": "code",
   "execution_count": 89,
   "id": "2151bfd9-b82a-42ad-bd64-eaadd15161cb",
   "metadata": {},
   "outputs": [],
   "source": [
    "# Remove o trecho ' sold recently' da coluna 'sold_recently'"
   ]
  },
  {
   "cell_type": "markdown",
   "id": "74b0bc50-4fe2-41d8-a6b9-9db04ca38a2f",
   "metadata": {
    "jp-MarkdownHeadingCollapsed": true
   },
   "source": [
    "# 4. Resultado"
   ]
  },
  {
   "cell_type": "code",
   "execution_count": 88,
   "id": "38b280b0-dcba-4291-8fc1-31442cee1b62",
   "metadata": {},
   "outputs": [
    {
     "data": {
      "text/html": [
       "<div>\n",
       "<style scoped>\n",
       "    .dataframe tbody tr th:only-of-type {\n",
       "        vertical-align: middle;\n",
       "    }\n",
       "\n",
       "    .dataframe tbody tr th {\n",
       "        vertical-align: top;\n",
       "    }\n",
       "\n",
       "    .dataframe thead th {\n",
       "        text-align: right;\n",
       "    }\n",
       "</style>\n",
       "<table border=\"1\" class=\"dataframe\">\n",
       "  <thead>\n",
       "    <tr style=\"text-align: right;\">\n",
       "      <th></th>\n",
       "      <th>product_name</th>\n",
       "      <th>price_USD</th>\n",
       "      <th>sold_recently</th>\n",
       "      <th>discount_as_percentage</th>\n",
       "      <th>product_link</th>\n",
       "      <th>is_valid_link</th>\n",
       "    </tr>\n",
       "  </thead>\n",
       "  <tbody>\n",
       "    <tr>\n",
       "      <th>0</th>\n",
       "      <td>1pc/2PCS Car Cup Coaster, Bling Cup Holder Ins...</td>\n",
       "      <td>0.68</td>\n",
       "      <td>unknown</td>\n",
       "      <td>-0.60</td>\n",
       "      <td>https://us.shein.com/1pc-2PCS-Car-Cup-Coaster-...</td>\n",
       "      <td>True</td>\n",
       "    </tr>\n",
       "    <tr>\n",
       "      <th>1</th>\n",
       "      <td>Jesus The Way Truth Life Sticker For Car Windo...</td>\n",
       "      <td>1.60</td>\n",
       "      <td>500+</td>\n",
       "      <td>-0.20</td>\n",
       "      <td>https://us.shein.com/Jesus-The-Way-Truth-Life-...</td>\n",
       "      <td>True</td>\n",
       "    </tr>\n",
       "    <tr>\n",
       "      <th>2</th>\n",
       "      <td>2PC Car Rearview Mirror Rain Eyebrow And Rain ...</td>\n",
       "      <td>1.60</td>\n",
       "      <td>200+</td>\n",
       "      <td>0.00</td>\n",
       "      <td>https://us.shein.com/2PC-Car-Rearview-Mirror-R...</td>\n",
       "      <td>True</td>\n",
       "    </tr>\n",
       "    <tr>\n",
       "      <th>3</th>\n",
       "      <td>2pcs Car Rearview Mirror Rainproof Film, High-...</td>\n",
       "      <td>0.93</td>\n",
       "      <td>200+</td>\n",
       "      <td>-0.34</td>\n",
       "      <td>https://us.shein.com/2pcs-Car-Rearview-Mirror-...</td>\n",
       "      <td>True</td>\n",
       "    </tr>\n",
       "    <tr>\n",
       "      <th>4</th>\n",
       "      <td>2pcs Multifunctional Car Hook</td>\n",
       "      <td>1.12</td>\n",
       "      <td>1.900+</td>\n",
       "      <td>-0.20</td>\n",
       "      <td>https://us.shein.com/2pcs-Multifunctional-Car-...</td>\n",
       "      <td>True</td>\n",
       "    </tr>\n",
       "    <tr>\n",
       "      <th>...</th>\n",
       "      <td>...</td>\n",
       "      <td>...</td>\n",
       "      <td>...</td>\n",
       "      <td>...</td>\n",
       "      <td>...</td>\n",
       "      <td>...</td>\n",
       "    </tr>\n",
       "    <tr>\n",
       "      <th>3925</th>\n",
       "      <td>Unbeatablesale 8 Lbs Smoke Hickory Wood Blocks</td>\n",
       "      <td>24.58</td>\n",
       "      <td>unknown</td>\n",
       "      <td>0.00</td>\n",
       "      <td>Missing</td>\n",
       "      <td>False</td>\n",
       "    </tr>\n",
       "    <tr>\n",
       "      <th>3926</th>\n",
       "      <td>VIVOHOME 1100 LBS Motorcycle Lift Scissor Jack...</td>\n",
       "      <td>72.99</td>\n",
       "      <td>unknown</td>\n",
       "      <td>-0.72</td>\n",
       "      <td>Missing</td>\n",
       "      <td>False</td>\n",
       "    </tr>\n",
       "    <tr>\n",
       "      <th>3927</th>\n",
       "      <td>Unbeatablesale Arctic Warrior Tip Up</td>\n",
       "      <td>33.75</td>\n",
       "      <td>unknown</td>\n",
       "      <td>0.00</td>\n",
       "      <td>Missing</td>\n",
       "      <td>False</td>\n",
       "    </tr>\n",
       "    <tr>\n",
       "      <th>3928</th>\n",
       "      <td>Unbeatablesale 17972 4.5 Gal Oval Drain Pan</td>\n",
       "      <td>38.87</td>\n",
       "      <td>unknown</td>\n",
       "      <td>0.00</td>\n",
       "      <td>Missing</td>\n",
       "      <td>False</td>\n",
       "    </tr>\n",
       "    <tr>\n",
       "      <th>3929</th>\n",
       "      <td>Unbeatablesale 16 In. Wheel Covers For Camry</td>\n",
       "      <td>59.99</td>\n",
       "      <td>unknown</td>\n",
       "      <td>0.00</td>\n",
       "      <td>Missing</td>\n",
       "      <td>False</td>\n",
       "    </tr>\n",
       "  </tbody>\n",
       "</table>\n",
       "<p>3930 rows × 6 columns</p>\n",
       "</div>"
      ],
      "text/plain": [
       "                                           product_name  price_USD  \\\n",
       "0     1pc/2PCS Car Cup Coaster, Bling Cup Holder Ins...       0.68   \n",
       "1     Jesus The Way Truth Life Sticker For Car Windo...       1.60   \n",
       "2     2PC Car Rearview Mirror Rain Eyebrow And Rain ...       1.60   \n",
       "3     2pcs Car Rearview Mirror Rainproof Film, High-...       0.93   \n",
       "4                         2pcs Multifunctional Car Hook       1.12   \n",
       "...                                                 ...        ...   \n",
       "3925     Unbeatablesale 8 Lbs Smoke Hickory Wood Blocks      24.58   \n",
       "3926  VIVOHOME 1100 LBS Motorcycle Lift Scissor Jack...      72.99   \n",
       "3927               Unbeatablesale Arctic Warrior Tip Up      33.75   \n",
       "3928        Unbeatablesale 17972 4.5 Gal Oval Drain Pan      38.87   \n",
       "3929       Unbeatablesale 16 In. Wheel Covers For Camry      59.99   \n",
       "\n",
       "     sold_recently  discount_as_percentage  \\\n",
       "0          unknown                   -0.60   \n",
       "1             500+                   -0.20   \n",
       "2             200+                    0.00   \n",
       "3             200+                   -0.34   \n",
       "4           1.900+                   -0.20   \n",
       "...            ...                     ...   \n",
       "3925       unknown                    0.00   \n",
       "3926       unknown                   -0.72   \n",
       "3927       unknown                    0.00   \n",
       "3928       unknown                    0.00   \n",
       "3929       unknown                    0.00   \n",
       "\n",
       "                                           product_link  is_valid_link  \n",
       "0     https://us.shein.com/1pc-2PCS-Car-Cup-Coaster-...           True  \n",
       "1     https://us.shein.com/Jesus-The-Way-Truth-Life-...           True  \n",
       "2     https://us.shein.com/2PC-Car-Rearview-Mirror-R...           True  \n",
       "3     https://us.shein.com/2pcs-Car-Rearview-Mirror-...           True  \n",
       "4     https://us.shein.com/2pcs-Multifunctional-Car-...           True  \n",
       "...                                                 ...            ...  \n",
       "3925                                            Missing          False  \n",
       "3926                                            Missing          False  \n",
       "3927                                            Missing          False  \n",
       "3928                                            Missing          False  \n",
       "3929                                            Missing          False  \n",
       "\n",
       "[3930 rows x 6 columns]"
      ]
     },
     "metadata": {},
     "output_type": "display_data"
    }
   ],
   "source": [
    "display(auto)"
   ]
  },
  {
   "cell_type": "code",
   "execution_count": null,
   "id": "fefe2c4a-fa04-49d0-b47c-6980333aa471",
   "metadata": {},
   "outputs": [],
   "source": []
  },
  {
   "cell_type": "code",
   "execution_count": null,
   "id": "7ffa49cd-8ac1-468e-85f0-8b8d368503a4",
   "metadata": {},
   "outputs": [],
   "source": []
  },
  {
   "cell_type": "code",
   "execution_count": null,
   "id": "47b28467-eb85-4fe6-98ca-4f025ee2f1e1",
   "metadata": {},
   "outputs": [],
   "source": []
  },
  {
   "cell_type": "code",
   "execution_count": null,
   "id": "b13116b2-3941-490c-bc32-0f7df526a663",
   "metadata": {},
   "outputs": [],
   "source": []
  }
 ],
 "metadata": {
  "kernelspec": {
   "display_name": "Python 3 (ipykernel)",
   "language": "python",
   "name": "python3"
  },
  "language_info": {
   "codemirror_mode": {
    "name": "ipython",
    "version": 3
   },
   "file_extension": ".py",
   "mimetype": "text/x-python",
   "name": "python",
   "nbconvert_exporter": "python",
   "pygments_lexer": "ipython3",
   "version": "3.12.4"
  }
 },
 "nbformat": 4,
 "nbformat_minor": 5
}
