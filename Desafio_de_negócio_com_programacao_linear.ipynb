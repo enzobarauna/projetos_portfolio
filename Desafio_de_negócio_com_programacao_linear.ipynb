{
 "cells": [
  {
   "cell_type": "markdown",
   "id": "4d6dd5cd-ed88-4818-99c4-9d3763976c1e",
   "metadata": {},
   "source": [
    "# 0. Desafio"
   ]
  },
  {
   "cell_type": "markdown",
   "id": "73445fb2-3e9b-431e-8e9e-927de86a47a5",
   "metadata": {},
   "source": [
    "Neste projeto, utilizei a programação linear em Python com a biblioteca OR-Tools para resolver um problema de **Otimização de Campanhas de Marketing Digital**. O seguinte desafio e os dados ficcionais foram elaborados com auxílio de inteligência artificial.\n",
    "\n",
    "A empresa fictícia em questão é um e-commerce que busca maximizar o retorno sobre investimento (ROI) de suas campanhas de marketing digital. O orçamento disponível é de $50.000, que precisa ser distribuído entre três principais canais de marketing: Google Ads, Facebook Ads e E-mail Marketing. Cada canal tem seu próprio custo por conversão e ROI estimado, além de limites mínimos e máximos de investimento que precisam ser respeitados.\n",
    "\n",
    "O desafio consiste em criar um modelo de programação linear que permita a alocação eficiente do orçamento entre os canais, visando o máximo retorno. Com base nos dados fornecidos, o modelo precisa determinar quanto deve ser investido em cada canal para otimizar os resultados da campanha.\n"
   ]
  },
  {
   "cell_type": "markdown",
   "id": "a1c5f500-4bbf-46fb-825b-a50210ef9618",
   "metadata": {},
   "source": [
    "# 1. Carregando Bibliotecas"
   ]
  },
  {
   "cell_type": "code",
   "execution_count": 49,
   "id": "2d21fae9-b60b-4b54-99d6-e65216e825d2",
   "metadata": {},
   "outputs": [],
   "source": [
    "import pandas as pd # importa a biblioteca pandas\n",
    "from ortools.linear_solver import pywraplp  # importa o pywraplp da biblioteca ortools\n",
    "from tabulate import tabulate # Importa o tabulate"
   ]
  },
  {
   "cell_type": "markdown",
   "id": "d2657135-fdb8-4f52-beb6-827d5ef589b6",
   "metadata": {},
   "source": [
    "# 2. Visualizando dados"
   ]
  },
  {
   "cell_type": "code",
   "execution_count": 48,
   "id": "8d80ecaa-9655-4276-b92a-3ed5356f2a0e",
   "metadata": {
    "jupyter": {
     "source_hidden": true
    },
    "scrolled": true
   },
   "outputs": [
    {
     "data": {
      "text/html": [
       "<div>\n",
       "<style scoped>\n",
       "    .dataframe tbody tr th:only-of-type {\n",
       "        vertical-align: middle;\n",
       "    }\n",
       "\n",
       "    .dataframe tbody tr th {\n",
       "        vertical-align: top;\n",
       "    }\n",
       "\n",
       "    .dataframe thead th {\n",
       "        text-align: right;\n",
       "    }\n",
       "</style>\n",
       "<table border=\"1\" class=\"dataframe\">\n",
       "  <thead>\n",
       "    <tr style=\"text-align: right;\">\n",
       "      <th></th>\n",
       "      <th>canal_marketing</th>\n",
       "      <th>custo _por_conversao</th>\n",
       "      <th>lim_min_investimento</th>\n",
       "      <th>lim_max_investimento</th>\n",
       "      <th>roi_por_dolar_investido</th>\n",
       "    </tr>\n",
       "  </thead>\n",
       "  <tbody>\n",
       "    <tr>\n",
       "      <th>0</th>\n",
       "      <td>Google Ads</td>\n",
       "      <td>15</td>\n",
       "      <td>10000</td>\n",
       "      <td>25000</td>\n",
       "      <td>2,5</td>\n",
       "    </tr>\n",
       "    <tr>\n",
       "      <th>1</th>\n",
       "      <td>Facebook Ads</td>\n",
       "      <td>20</td>\n",
       "      <td>5000</td>\n",
       "      <td>15000</td>\n",
       "      <td>3</td>\n",
       "    </tr>\n",
       "    <tr>\n",
       "      <th>2</th>\n",
       "      <td>E-mail Marketing</td>\n",
       "      <td>10</td>\n",
       "      <td>2000</td>\n",
       "      <td>10000</td>\n",
       "      <td>1,8</td>\n",
       "    </tr>\n",
       "  </tbody>\n",
       "</table>\n",
       "</div>"
      ],
      "text/plain": [
       "    canal_marketing  custo _por_conversao   lim_min_investimento  \\\n",
       "0        Google Ads                     15                 10000   \n",
       "1      Facebook Ads                     20                  5000   \n",
       "2  E-mail Marketing                     10                  2000   \n",
       "\n",
       "   lim_max_investimento roi_por_dolar_investido  \n",
       "0                 25000                     2,5  \n",
       "1                 15000                       3  \n",
       "2                 10000                     1,8  "
      ]
     },
     "metadata": {},
     "output_type": "display_data"
    }
   ],
   "source": [
    "dados_mkt = pd.read_csv('Desafio_de_negócio_com_programacao_linear.csv') # importa o arquivo csv\n",
    "display(dados_mkt)"
   ]
  },
  {
   "cell_type": "markdown",
   "id": "528485c2-4367-4f1b-b7c8-52f92c6706b9",
   "metadata": {},
   "source": [
    "## Dicionário de Dados:\n",
    "\n",
    "- **canal_marketing**: Lista dos canais de marketing utilizados.\n",
    "- **custo_por_conversao**: Custo por conversao, ou seja, o valor necessário para cada conversão em um canal.\n",
    "- **lim_min_investimento**: O investimento mínimo exigido para cada canal.\n",
    "- **lim_max_investimento**: O investimento máximo permitido em cada canal.\n",
    "- **roi_por_dolar_investido (retorno esperado)**: Retorno sobre o investimento por dólar investido em cada canal."
   ]
  },
  {
   "cell_type": "markdown",
   "id": "0e2e00b1-58ce-4f27-9cc8-4232b53ccd33",
   "metadata": {},
   "source": [
    "# 2. Resolução"
   ]
  },
  {
   "cell_type": "code",
   "execution_count": 52,
   "id": "4c5a2066-473f-4333-8ccd-1ef35df018d2",
   "metadata": {
    "jupyter": {
     "source_hidden": true
    }
   },
   "outputs": [],
   "source": [
    "solver = pywraplp.Solver.CreateSolver('SCIP')  # Cria um solver para programação inteira mista"
   ]
  },
  {
   "cell_type": "code",
   "execution_count": 53,
   "id": "8e5559d4-f0e9-427a-b33f-160ea336bd49",
   "metadata": {
    "jupyter": {
     "source_hidden": true
    }
   },
   "outputs": [
    {
     "name": "stdout",
     "output_type": "stream",
     "text": [
      "╭─────────────────┬───────────╮\n",
      "│ Facebook Ads    │ $15000.00 │\n",
      "├─────────────────┼───────────┤\n",
      "│ Google Ads      │ $25000.00 │\n",
      "├─────────────────┼───────────┤\n",
      "│ Email Marketing │ $10000.00 │\n",
      "├─────────────────┼───────────┤\n",
      "│ ROI Total       │ $8216.67  │\n",
      "╰─────────────────┴───────────╯\n"
     ]
    }
   ],
   "source": [
    "lim_min_facebook = 5000\t  # Mínimo de investimento Facebook Ads\n",
    "lim_max_facebook = 15000  # Máximo de investimento Facebook Ads\n",
    "\n",
    "lim_min_google = 10000   # Mínimo de investimento Google Ads\n",
    "lim_max_google = 25000    # Máximo de investimento Google Ads\n",
    "\n",
    "lim_min_email = 2000      # Mínimo de investimento Email\n",
    "lim_max_email = 10000     # Máximo de investimento Email\n",
    "\n",
    "\n",
    "custo_conv_fb = 20         # Custo de conversão Facebook Ads\n",
    "custo_conv_google = 15     # Custo de conversão Google Ads\n",
    "custo_conv_email = 10      # Custo de conversão Email\n",
    "\n",
    "\n",
    "# ROI por dólar investido\n",
    "roi_facebook = 3\n",
    "roi_google = 2.5\n",
    "roi_email = 1.8\n",
    "\n",
    "# Define variáveis de conversão\n",
    "facebook_investimento = solver.NumVar(lim_min_facebook, lim_max_facebook, 'Facebook Ads')\n",
    "google_investimento = solver.NumVar(lim_min_google, lim_max_google, 'Google Ads')\n",
    "email_investimento = solver.NumVar(lim_min_email, lim_max_email, 'Email Marketing')\n",
    "# Definimos as variáveis como NumVar pois tratam-se de valores de investimento\n",
    "# e obrigamos que respeitem os limites previammente\n",
    "\n",
    "\n",
    "\n",
    "orcamento_total = 50000 # Define nosso limite de gasto\n",
    "\n",
    "# Define nosso orçamento total como restrição\n",
    "solver.Add(facebook_investimento + google_investimento + email_investimento  <= orcamento_total)\n",
    "\n",
    "# Calculo do ROI total\n",
    "total_roi = (\n",
    "    (facebook_investimento / custo_conv_fb) * roi_facebook +\n",
    "    (google_investimento / custo_conv_google) * roi_google +\n",
    "    (email_investimento / custo_conv_email) * roi_email\n",
    ")\n",
    "\n",
    "# Define a maximização do ROI total\n",
    "solver.Maximize(total_roi)\n",
    "\n",
    "# Resolve o problema com o solver\n",
    "status = solver.Solve()\n",
    "\n",
    "if status == pywraplp.Solver.OPTIMAL:\n",
    "    # Calculo do ROI total\n",
    "    roi_total = (\n",
    "        (facebook_investimento.solution_value() / custo_conv_fb) * roi_facebook +\n",
    "        (google_investimento.solution_value() / custo_conv_google) * roi_google +\n",
    "        (email_investimento.solution_value() / custo_conv_email) * roi_email\n",
    "    )\n",
    "\n",
    "    # Estrutura os dados para exibição\n",
    "    data = [\n",
    "        ['Facebook Ads', '${:.2f}'.format(facebook_investimento.solution_value())],\n",
    "        ['Google Ads', '${:.2f}'.format(google_investimento.solution_value())],\n",
    "        ['Email Marketing', '${:.2f}'.format(email_investimento.solution_value())],\n",
    "        ['ROI Total', '${:.2f}'.format(roi_total)]\n",
    "    ]\n",
    "\n",
    "    print(tabulate(data, tablefmt='rounded_grid'))\n",
    "\n",
    "else:\n",
    "\n",
    "    erro = [\n",
    "        ['O problema não apresenta solução viável']  # Caso contrário, exiba uma mensagem de erro\n",
    "    ]\n",
    "    print(tabulate(erro, tablefmt='rounded_grid'))"
   ]
  },
  {
   "cell_type": "markdown",
   "id": "f7046150-7342-4c28-9868-6079c488ab5a",
   "metadata": {},
   "source": [
    "A solução encontrada pelo modelo de otimização retorna os valores ideais de investimento em cada canal, maximizando o ROI total para o orçamento fornecido. Além disso, o código gera uma tabela formatada que exibe de forma objetiva os investimentos sugeridos em cada canal de marketing, bem como o ROI total estimado."
   ]
  }
 ],
 "metadata": {
  "kernelspec": {
   "display_name": "Python 3 (ipykernel)",
   "language": "python",
   "name": "python3"
  },
  "language_info": {
   "codemirror_mode": {
    "name": "ipython",
    "version": 3
   },
   "file_extension": ".py",
   "mimetype": "text/x-python",
   "name": "python",
   "nbconvert_exporter": "python",
   "pygments_lexer": "ipython3",
   "version": "3.12.4"
  }
 },
 "nbformat": 4,
 "nbformat_minor": 5
}
